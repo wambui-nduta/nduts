{
  "nbformat": 4,
  "nbformat_minor": 0,
  "metadata": {
    "colab": {
      "provenance": [],
      "authorship_tag": "ABX9TyO1wDqxCUkvgYwF1CT5obIa",
      "include_colab_link": true
    },
    "kernelspec": {
      "name": "python3",
      "display_name": "Python 3"
    },
    "language_info": {
      "name": "python"
    }
  },
  "cells": [
    {
      "cell_type": "markdown",
      "metadata": {
        "id": "view-in-github",
        "colab_type": "text"
      },
      "source": [
        "<a href=\"https://colab.research.google.com/github/wambui-nduta/nduts/blob/main/pandas_practice_strings_to_series_own.ipynb\" target=\"_parent\"><img src=\"https://colab.research.google.com/assets/colab-badge.svg\" alt=\"Open In Colab\"/></a>"
      ]
    },
    {
      "cell_type": "code",
      "execution_count": 6,
      "metadata": {
        "colab": {
          "base_uri": "https://localhost:8080/"
        },
        "id": "rxtZhFFgUW2y",
        "outputId": "5e15be49-5c0b-46dc-ea6d-d8409f6ec5a5"
      },
      "outputs": [
        {
          "output_type": "stream",
          "name": "stdout",
          "text": [
            "0    apple \n",
            "1    orange\n",
            "2     mango\n",
            "3    daikon\n",
            "4      kiwi\n",
            "dtype: object\n"
          ]
        }
      ],
      "source": [
        "#!pip install pandas\n",
        "import pandas as pd\n",
        "products  =['apple ','orange', 'mango','daikon','kiwi']\n",
        "#creating series from list\n",
        "\n",
        "product_series = pd.Series(products)\n",
        "print(product_series)\n",
        "\n",
        "\n"
      ]
    },
    {
      "cell_type": "code",
      "source": [
        "#creating a series with prices\n",
        "\n",
        "prices = [10, 50, 30, 15, 50]\n",
        "price_series = pd.Series(prices)\n",
        "#print(price_series)\n",
        "\n",
        "\n",
        "#covert price to int or float\n",
        "price_series = price_series.astype(float)\n",
        "print(price_series)\n",
        "\n",
        "#or\n",
        "\n",
        "price_series = pd.Series(prices, dtype=int)\n",
        "#print(price_series)\n",
        "\n"
      ],
      "metadata": {
        "colab": {
          "base_uri": "https://localhost:8080/"
        },
        "id": "8tmXz8WMWPmh",
        "outputId": "914e4236-4812-4588-e75b-db9a5f8f09cd"
      },
      "execution_count": 11,
      "outputs": [
        {
          "output_type": "stream",
          "name": "stdout",
          "text": [
            "0    10.0\n",
            "1    50.0\n",
            "2    30.0\n",
            "3    15.0\n",
            "4    50.0\n",
            "dtype: float64\n"
          ]
        }
      ]
    },
    {
      "cell_type": "code",
      "source": [
        "#create a data frame ..store them together its calls\n",
        "df = pd.DataFrame({'products': products, 'prices': prices})\n",
        "#print(df)"
      ],
      "metadata": {
        "colab": {
          "base_uri": "https://localhost:8080/"
        },
        "id": "kNHBwqBuWqWA",
        "outputId": "ea1a0667-b08f-4dcf-d1bc-c244eaaae0bb"
      },
      "execution_count": 13,
      "outputs": [
        {
          "output_type": "stream",
          "name": "stdout",
          "text": [
            "  products  prices\n",
            "0   apple       10\n",
            "1   orange      50\n",
            "2    mango      30\n",
            "3   daikon      15\n",
            "4     kiwi      50\n"
          ]
        }
      ]
    },
    {
      "cell_type": "code",
      "source": [
        "#create single series ,each items combines product and price text\n",
        "\n",
        "combined_series = product_series + ' $' + price_series.astype(str)\n",
        "#print(combined_series)"
      ],
      "metadata": {
        "colab": {
          "base_uri": "https://localhost:8080/"
        },
        "id": "pKw5eB7CZXeE",
        "outputId": "1c1350f2-f126-4437-84e6-7ea12ac237a2"
      },
      "execution_count": 15,
      "outputs": [
        {
          "output_type": "stream",
          "name": "stdout",
          "text": [
            "0    apple  $10\n",
            "1    orange $50\n",
            "2     mango $30\n",
            "3    daikon $15\n",
            "4      kiwi $50\n",
            "dtype: object\n"
          ]
        }
      ]
    },
    {
      "cell_type": "code",
      "source": [],
      "metadata": {
        "id": "w0hp6hHqacdt"
      },
      "execution_count": null,
      "outputs": []
    }
  ]
}