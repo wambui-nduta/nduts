{
  "nbformat": 4,
  "nbformat_minor": 0,
  "metadata": {
    "colab": {
      "provenance": [],
      "authorship_tag": "ABX9TyPN4Zuw0oXaV71Qu2P2YPUo",
      "include_colab_link": true
    },
    "kernelspec": {
      "name": "python3",
      "display_name": "Python 3"
    },
    "language_info": {
      "name": "python"
    }
  },
  "cells": [
    {
      "cell_type": "markdown",
      "metadata": {
        "id": "view-in-github",
        "colab_type": "text"
      },
      "source": [
        "<a href=\"https://colab.research.google.com/github/wambui-nduta/nduts/blob/main/omdb_prac2.ipynb\" target=\"_parent\"><img src=\"https://colab.research.google.com/assets/colab-badge.svg\" alt=\"Open In Colab\"/></a>"
      ]
    },
    {
      "cell_type": "code",
      "source": [
        "import requests\n",
        "import pandas as pd\n",
        "\n",
        "API_KEY = \"2325065b\"\n",
        "BASE_URL = \"http://www.omdbapi.com/\"\n",
        "\n",
        "def get_movie_data(movie_title):\n",
        "    params = {\"t\": movie_title, \"apikey\": API_KEY}\n",
        "    response = requests.get(BASE_URL, params=params)\n",
        "\n",
        "    if response.status_code == 200:\n",
        "        data = response.json()\n",
        "        if data.get(\"Response\") == \"True\":\n",
        "            return data\n",
        "        else:\n",
        "            print(f\"Error: {data.get('Error')}\")\n",
        "            return None\n",
        "    else:\n",
        "        print(f\"Error: HTTP {response.status_code}\")\n",
        "        return None\n",
        "\n",
        "movie = get_movie_data(\"Titanic\")\n",
        "\n",
        "if movie:\n",
        "    df = pd.DataFrame([{\n",
        "        \"Title\": movie.get(\"Title\"),\n",
        "        \"Year\": movie.get(\"Year\"),\n",
        "        \"Director\": movie.get(\"Director\"),\n",
        "        \"IMDb Rating\": movie.get(\"imdbRating\"),\n",
        "        \"Genre\": movie.get(\"Genre\")\n",
        "    }])\n",
        "\n",
        "    print(df)\n",
        "else:\n",
        "    print(\"Movie data could not be retrieved.\")\n"
      ],
      "metadata": {
        "colab": {
          "base_uri": "https://localhost:8080/"
        },
        "id": "_fPpuo-MQplp",
        "outputId": "69955ea5-1d73-4e5a-bf11-2f86d8ae5d06"
      },
      "execution_count": 7,
      "outputs": [
        {
          "output_type": "stream",
          "name": "stdout",
          "text": [
            "     Title  Year       Director IMDb Rating           Genre\n",
            "0  Titanic  1997  James Cameron         7.9  Drama, Romance\n"
          ]
        }
      ]
    }
  ]
}