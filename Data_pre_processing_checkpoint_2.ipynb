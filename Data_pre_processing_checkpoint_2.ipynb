{
  "nbformat": 4,
  "nbformat_minor": 0,
  "metadata": {
    "colab": {
      "provenance": [],
      "authorship_tag": "ABX9TyOwtONgaVv8rtI6XIKCHEnd",
      "include_colab_link": true
    },
    "kernelspec": {
      "name": "python3",
      "display_name": "Python 3"
    },
    "language_info": {
      "name": "python"
    }
  },
  "cells": [
    {
      "cell_type": "markdown",
      "metadata": {
        "id": "view-in-github",
        "colab_type": "text"
      },
      "source": [
        "<a href=\"https://colab.research.google.com/github/wambui-nduta/nduts/blob/main/Data_pre_processing_checkpoint_2.ipynb\" target=\"_parent\"><img src=\"https://colab.research.google.com/assets/colab-badge.svg\" alt=\"Open In Colab\"/></a>"
      ]
    },
    {
      "cell_type": "code",
      "execution_count": 1,
      "metadata": {
        "colab": {
          "base_uri": "https://localhost:8080/"
        },
        "collapsed": true,
        "id": "w9ikVEL6LV8z",
        "outputId": "da657480-fa3d-4884-be88-7798d756cdbe"
      },
      "outputs": [
        {
          "output_type": "stream",
          "name": "stdout",
          "text": [
            "        client_id invoice_date  tarif_type  counter_number  counter_statue  \\\n",
            "0  train_Client_0   24/03/2014          11       1335667.0             0.0   \n",
            "1  train_Client_0   29/03/2013          11       1335667.0             0.0   \n",
            "2  train_Client_0   23/03/2015          11       1335667.0             0.0   \n",
            "3  train_Client_0   13/07/2015          11       1335667.0             0.0   \n",
            "4  train_Client_0   17/11/2016          11       1335667.0             0.0   \n",
            "5  train_Client_0   17/07/2017          11       1335667.0             0.0   \n",
            "6  train_Client_0   07/12/2018          11       1335667.0             0.0   \n",
            "7  train_Client_0   19/03/2019          11       1335667.0             0.0   \n",
            "8  train_Client_0   22/07/2011          11       1335667.0             0.0   \n",
            "9  train_Client_0   22/11/2011          11       1335667.0             0.0   \n",
            "\n",
            "   counter_code  reading_remarque  counter_coefficient  consommation_level_1  \\\n",
            "0         203.0               8.0                  1.0                  82.0   \n",
            "1         203.0               6.0                  1.0                1200.0   \n",
            "2         203.0               8.0                  1.0                 123.0   \n",
            "3         207.0               8.0                  1.0                 102.0   \n",
            "4         207.0               9.0                  1.0                 572.0   \n",
            "5         207.0               9.0                  1.0                 314.0   \n",
            "6         207.0               9.0                  1.0                 541.0   \n",
            "7         207.0               9.0                  1.0                 585.0   \n",
            "8         203.0               9.0                  1.0                1200.0   \n",
            "9         203.0               6.0                  1.0                1082.0   \n",
            "\n",
            "   consommation_level_2  consommation_level_3  consommation_level_4  \\\n",
            "0                   0.0                   0.0                   0.0   \n",
            "1                 184.0                   0.0                   0.0   \n",
            "2                   0.0                   0.0                   0.0   \n",
            "3                   0.0                   0.0                   0.0   \n",
            "4                   0.0                   0.0                   0.0   \n",
            "5                   0.0                   0.0                   0.0   \n",
            "6                   0.0                   0.0                   0.0   \n",
            "7                   0.0                   0.0                   0.0   \n",
            "8                 186.0                   0.0                   0.0   \n",
            "9                   0.0                   0.0                   0.0   \n",
            "\n",
            "   old_index  new_index  months_number counter_type  \n",
            "0    14302.0    14384.0            4.0         ELEC  \n",
            "1    12294.0    13678.0            4.0         ELEC  \n",
            "2    14624.0    14747.0            4.0         ELEC  \n",
            "3    14747.0    14849.0            4.0         ELEC  \n",
            "4    15066.0    15638.0           12.0         ELEC  \n",
            "5    15638.0    15952.0            8.0         ELEC  \n",
            "6    15952.0    16493.0           12.0         ELEC  \n",
            "7    16493.0    17078.0            8.0         ELEC  \n",
            "8     7770.0     9156.0            4.0         ELEC  \n",
            "9     9156.0    10238.0            4.0         ELEC  \n"
          ]
        }
      ],
      "source": [
        "#Load the dataset, display the ten first lines, store the results in a variable called 'client_0_bills'.\n",
        "import pandas as pd\n",
        "\n",
        "df = pd.read_csv(\"STEG_BILLING_HISTORY.csv\")\n",
        "\n",
        "client_0_bills = df.head(10)\n",
        "\n",
        "print(client_0_bills)\n"
      ]
    },
    {
      "cell_type": "code",
      "source": [
        "#What is the data type of the 'client_0_bills' variable ?\n",
        "\n",
        "print(type(client_0_bills))"
      ],
      "metadata": {
        "colab": {
          "base_uri": "https://localhost:8080/"
        },
        "id": "8MVUnkv4LmdR",
        "outputId": "5021154f-139d-4c21-8d8b-4aec1c89bcc3"
      },
      "execution_count": 2,
      "outputs": [
        {
          "output_type": "stream",
          "name": "stdout",
          "text": [
            "<class 'pandas.core.frame.DataFrame'>\n"
          ]
        }
      ]
    },
    {
      "cell_type": "code",
      "source": [
        "# How many rows and columns do we have in this dataset\n",
        "\n",
        "df.shape\n",
        "\n",
        "# How many categorical features are present in the dataset\n",
        "\n",
        "df.columns\n",
        "\n",
        "# How much memory space does the dataset consume\n",
        "df.info()"
      ],
      "metadata": {
        "colab": {
          "base_uri": "https://localhost:8080/"
        },
        "collapsed": true,
        "id": "wzqF7W6ALqxF",
        "outputId": "154a638d-ee55-4d62-d4de-797dff35e95f"
      },
      "execution_count": 39,
      "outputs": [
        {
          "output_type": "stream",
          "name": "stdout",
          "text": [
            "<class 'pandas.core.frame.DataFrame'>\n",
            "RangeIndex: 147164 entries, 0 to 147163\n",
            "Data columns (total 16 columns):\n",
            " #   Column                Non-Null Count   Dtype  \n",
            "---  ------                --------------   -----  \n",
            " 0   client_id             147164 non-null  object \n",
            " 1   invoice_date          147164 non-null  object \n",
            " 2   tarif_type            147164 non-null  int64  \n",
            " 3   counter_number        147164 non-null  float64\n",
            " 4   counter_code          147163 non-null  float64\n",
            " 5   reading_remarque      147164 non-null  object \n",
            " 6   counter_coefficient   147163 non-null  float64\n",
            " 7   consommation_level_1  147163 non-null  float64\n",
            " 8   consommation_level_2  147163 non-null  float64\n",
            " 9   consommation_level_3  147163 non-null  float64\n",
            " 10  consommation_level_4  147163 non-null  float64\n",
            " 11  old_index             147163 non-null  float64\n",
            " 12  new_index             147163 non-null  float64\n",
            " 13  months_number         147163 non-null  float64\n",
            " 14  counter_type          147163 non-null  object \n",
            " 15  counter_type_encoded  147164 non-null  int64  \n",
            "dtypes: float64(10), int64(2), object(4)\n",
            "memory usage: 18.0+ MB\n"
          ]
        }
      ]
    },
    {
      "cell_type": "code",
      "source": [
        "#Inspect the dataset for potential missing values\n",
        "\n",
        "df.isnull().sum()"
      ],
      "metadata": {
        "colab": {
          "base_uri": "https://localhost:8080/",
          "height": 585
        },
        "collapsed": true,
        "id": "wXBeZN7oLy2E",
        "outputId": "c4e969f9-971a-43ec-aa97-6f9c730d6307"
      },
      "execution_count": 4,
      "outputs": [
        {
          "output_type": "execute_result",
          "data": {
            "text/plain": [
              "client_id                 0\n",
              "invoice_date              0\n",
              "tarif_type                0\n",
              "counter_number            2\n",
              "counter_statue            1\n",
              "counter_code              1\n",
              "reading_remarque        140\n",
              "counter_coefficient       1\n",
              "consommation_level_1      1\n",
              "consommation_level_2      1\n",
              "consommation_level_3      1\n",
              "consommation_level_4      1\n",
              "old_index                 1\n",
              "new_index                 1\n",
              "months_number             1\n",
              "counter_type              1\n",
              "dtype: int64"
            ],
            "text/html": [
              "<div>\n",
              "<style scoped>\n",
              "    .dataframe tbody tr th:only-of-type {\n",
              "        vertical-align: middle;\n",
              "    }\n",
              "\n",
              "    .dataframe tbody tr th {\n",
              "        vertical-align: top;\n",
              "    }\n",
              "\n",
              "    .dataframe thead th {\n",
              "        text-align: right;\n",
              "    }\n",
              "</style>\n",
              "<table border=\"1\" class=\"dataframe\">\n",
              "  <thead>\n",
              "    <tr style=\"text-align: right;\">\n",
              "      <th></th>\n",
              "      <th>0</th>\n",
              "    </tr>\n",
              "  </thead>\n",
              "  <tbody>\n",
              "    <tr>\n",
              "      <th>client_id</th>\n",
              "      <td>0</td>\n",
              "    </tr>\n",
              "    <tr>\n",
              "      <th>invoice_date</th>\n",
              "      <td>0</td>\n",
              "    </tr>\n",
              "    <tr>\n",
              "      <th>tarif_type</th>\n",
              "      <td>0</td>\n",
              "    </tr>\n",
              "    <tr>\n",
              "      <th>counter_number</th>\n",
              "      <td>2</td>\n",
              "    </tr>\n",
              "    <tr>\n",
              "      <th>counter_statue</th>\n",
              "      <td>1</td>\n",
              "    </tr>\n",
              "    <tr>\n",
              "      <th>counter_code</th>\n",
              "      <td>1</td>\n",
              "    </tr>\n",
              "    <tr>\n",
              "      <th>reading_remarque</th>\n",
              "      <td>140</td>\n",
              "    </tr>\n",
              "    <tr>\n",
              "      <th>counter_coefficient</th>\n",
              "      <td>1</td>\n",
              "    </tr>\n",
              "    <tr>\n",
              "      <th>consommation_level_1</th>\n",
              "      <td>1</td>\n",
              "    </tr>\n",
              "    <tr>\n",
              "      <th>consommation_level_2</th>\n",
              "      <td>1</td>\n",
              "    </tr>\n",
              "    <tr>\n",
              "      <th>consommation_level_3</th>\n",
              "      <td>1</td>\n",
              "    </tr>\n",
              "    <tr>\n",
              "      <th>consommation_level_4</th>\n",
              "      <td>1</td>\n",
              "    </tr>\n",
              "    <tr>\n",
              "      <th>old_index</th>\n",
              "      <td>1</td>\n",
              "    </tr>\n",
              "    <tr>\n",
              "      <th>new_index</th>\n",
              "      <td>1</td>\n",
              "    </tr>\n",
              "    <tr>\n",
              "      <th>months_number</th>\n",
              "      <td>1</td>\n",
              "    </tr>\n",
              "    <tr>\n",
              "      <th>counter_type</th>\n",
              "      <td>1</td>\n",
              "    </tr>\n",
              "  </tbody>\n",
              "</table>\n",
              "</div><br><label><b>dtype:</b> int64</label>"
            ]
          },
          "metadata": {},
          "execution_count": 4
        }
      ]
    },
    {
      "cell_type": "code",
      "source": [
        "#strategy to handle missing values, and tell us why you had made that choice\n",
        "#For counter_number (11 missing values) since they are numerical values  we will fill with mean for normal distribution and mode for skewed\n",
        "\n",
        "#minimal distortion in the dataset while retaining valuable records\n",
        "\n",
        "\n",
        "df[\"counter_number\"] = df[\"counter_number\"].fillna(df[\"counter_number\"].median())\n",
        "\n",
        "df.isnull().sum()"
      ],
      "metadata": {
        "colab": {
          "base_uri": "https://localhost:8080/",
          "height": 585
        },
        "collapsed": true,
        "id": "P7PEPsYkL4bb",
        "outputId": "6fa47eee-f8c8-43a1-aafb-6bea15cf5ae5"
      },
      "execution_count": 7,
      "outputs": [
        {
          "output_type": "execute_result",
          "data": {
            "text/plain": [
              "client_id                 0\n",
              "invoice_date              0\n",
              "tarif_type                0\n",
              "counter_number            0\n",
              "counter_statue            1\n",
              "counter_code              1\n",
              "reading_remarque        140\n",
              "counter_coefficient       1\n",
              "consommation_level_1      1\n",
              "consommation_level_2      1\n",
              "consommation_level_3      1\n",
              "consommation_level_4      1\n",
              "old_index                 1\n",
              "new_index                 1\n",
              "months_number             1\n",
              "counter_type              1\n",
              "dtype: int64"
            ],
            "text/html": [
              "<div>\n",
              "<style scoped>\n",
              "    .dataframe tbody tr th:only-of-type {\n",
              "        vertical-align: middle;\n",
              "    }\n",
              "\n",
              "    .dataframe tbody tr th {\n",
              "        vertical-align: top;\n",
              "    }\n",
              "\n",
              "    .dataframe thead th {\n",
              "        text-align: right;\n",
              "    }\n",
              "</style>\n",
              "<table border=\"1\" class=\"dataframe\">\n",
              "  <thead>\n",
              "    <tr style=\"text-align: right;\">\n",
              "      <th></th>\n",
              "      <th>0</th>\n",
              "    </tr>\n",
              "  </thead>\n",
              "  <tbody>\n",
              "    <tr>\n",
              "      <th>client_id</th>\n",
              "      <td>0</td>\n",
              "    </tr>\n",
              "    <tr>\n",
              "      <th>invoice_date</th>\n",
              "      <td>0</td>\n",
              "    </tr>\n",
              "    <tr>\n",
              "      <th>tarif_type</th>\n",
              "      <td>0</td>\n",
              "    </tr>\n",
              "    <tr>\n",
              "      <th>counter_number</th>\n",
              "      <td>0</td>\n",
              "    </tr>\n",
              "    <tr>\n",
              "      <th>counter_statue</th>\n",
              "      <td>1</td>\n",
              "    </tr>\n",
              "    <tr>\n",
              "      <th>counter_code</th>\n",
              "      <td>1</td>\n",
              "    </tr>\n",
              "    <tr>\n",
              "      <th>reading_remarque</th>\n",
              "      <td>140</td>\n",
              "    </tr>\n",
              "    <tr>\n",
              "      <th>counter_coefficient</th>\n",
              "      <td>1</td>\n",
              "    </tr>\n",
              "    <tr>\n",
              "      <th>consommation_level_1</th>\n",
              "      <td>1</td>\n",
              "    </tr>\n",
              "    <tr>\n",
              "      <th>consommation_level_2</th>\n",
              "      <td>1</td>\n",
              "    </tr>\n",
              "    <tr>\n",
              "      <th>consommation_level_3</th>\n",
              "      <td>1</td>\n",
              "    </tr>\n",
              "    <tr>\n",
              "      <th>consommation_level_4</th>\n",
              "      <td>1</td>\n",
              "    </tr>\n",
              "    <tr>\n",
              "      <th>old_index</th>\n",
              "      <td>1</td>\n",
              "    </tr>\n",
              "    <tr>\n",
              "      <th>new_index</th>\n",
              "      <td>1</td>\n",
              "    </tr>\n",
              "    <tr>\n",
              "      <th>months_number</th>\n",
              "      <td>1</td>\n",
              "    </tr>\n",
              "    <tr>\n",
              "      <th>counter_type</th>\n",
              "      <td>1</td>\n",
              "    </tr>\n",
              "  </tbody>\n",
              "</table>\n",
              "</div><br><label><b>dtype:</b> int64</label>"
            ]
          },
          "metadata": {},
          "execution_count": 7
        }
      ]
    },
    {
      "cell_type": "code",
      "source": [
        "\n",
        "#df[\"reading_remarque\"].dtype\n",
        "\n",
        "df[\"reading_remarque\"] = df[\"reading_remarque\"].fillna(df[\"reading_remarque\"].mode()[0])\n",
        "\n",
        "df.isnull().sum()"
      ],
      "metadata": {
        "colab": {
          "base_uri": "https://localhost:8080/",
          "height": 585
        },
        "collapsed": true,
        "id": "vcPfaN_sMh0c",
        "outputId": "5d22af21-b6e6-4e6b-c0c3-36314ffa8839"
      },
      "execution_count": 17,
      "outputs": [
        {
          "output_type": "execute_result",
          "data": {
            "text/plain": [
              "client_id               0\n",
              "invoice_date            0\n",
              "tarif_type              0\n",
              "counter_number          0\n",
              "counter_statue          1\n",
              "counter_code            1\n",
              "reading_remarque        0\n",
              "counter_coefficient     1\n",
              "consommation_level_1    1\n",
              "consommation_level_2    1\n",
              "consommation_level_3    1\n",
              "consommation_level_4    1\n",
              "old_index               1\n",
              "new_index               1\n",
              "months_number           1\n",
              "counter_type            1\n",
              "dtype: int64"
            ],
            "text/html": [
              "<div>\n",
              "<style scoped>\n",
              "    .dataframe tbody tr th:only-of-type {\n",
              "        vertical-align: middle;\n",
              "    }\n",
              "\n",
              "    .dataframe tbody tr th {\n",
              "        vertical-align: top;\n",
              "    }\n",
              "\n",
              "    .dataframe thead th {\n",
              "        text-align: right;\n",
              "    }\n",
              "</style>\n",
              "<table border=\"1\" class=\"dataframe\">\n",
              "  <thead>\n",
              "    <tr style=\"text-align: right;\">\n",
              "      <th></th>\n",
              "      <th>0</th>\n",
              "    </tr>\n",
              "  </thead>\n",
              "  <tbody>\n",
              "    <tr>\n",
              "      <th>client_id</th>\n",
              "      <td>0</td>\n",
              "    </tr>\n",
              "    <tr>\n",
              "      <th>invoice_date</th>\n",
              "      <td>0</td>\n",
              "    </tr>\n",
              "    <tr>\n",
              "      <th>tarif_type</th>\n",
              "      <td>0</td>\n",
              "    </tr>\n",
              "    <tr>\n",
              "      <th>counter_number</th>\n",
              "      <td>0</td>\n",
              "    </tr>\n",
              "    <tr>\n",
              "      <th>counter_statue</th>\n",
              "      <td>1</td>\n",
              "    </tr>\n",
              "    <tr>\n",
              "      <th>counter_code</th>\n",
              "      <td>1</td>\n",
              "    </tr>\n",
              "    <tr>\n",
              "      <th>reading_remarque</th>\n",
              "      <td>0</td>\n",
              "    </tr>\n",
              "    <tr>\n",
              "      <th>counter_coefficient</th>\n",
              "      <td>1</td>\n",
              "    </tr>\n",
              "    <tr>\n",
              "      <th>consommation_level_1</th>\n",
              "      <td>1</td>\n",
              "    </tr>\n",
              "    <tr>\n",
              "      <th>consommation_level_2</th>\n",
              "      <td>1</td>\n",
              "    </tr>\n",
              "    <tr>\n",
              "      <th>consommation_level_3</th>\n",
              "      <td>1</td>\n",
              "    </tr>\n",
              "    <tr>\n",
              "      <th>consommation_level_4</th>\n",
              "      <td>1</td>\n",
              "    </tr>\n",
              "    <tr>\n",
              "      <th>old_index</th>\n",
              "      <td>1</td>\n",
              "    </tr>\n",
              "    <tr>\n",
              "      <th>new_index</th>\n",
              "      <td>1</td>\n",
              "    </tr>\n",
              "    <tr>\n",
              "      <th>months_number</th>\n",
              "      <td>1</td>\n",
              "    </tr>\n",
              "    <tr>\n",
              "      <th>counter_type</th>\n",
              "      <td>1</td>\n",
              "    </tr>\n",
              "  </tbody>\n",
              "</table>\n",
              "</div><br><label><b>dtype:</b> int64</label>"
            ]
          },
          "metadata": {},
          "execution_count": 17
        }
      ]
    },
    {
      "cell_type": "code",
      "source": [
        "#Run a descriptive analysis on numeric features (columns).\n",
        "\n",
        "\n",
        "print(df.describe())\n"
      ],
      "metadata": {
        "colab": {
          "base_uri": "https://localhost:8080/"
        },
        "collapsed": true,
        "id": "SJl2iZ03Nkhp",
        "outputId": "e2559018-75c4-4be4-ed3f-c64675e73fb9"
      },
      "execution_count": 18,
      "outputs": [
        {
          "output_type": "stream",
          "name": "stdout",
          "text": [
            "          tarif_type  counter_number  counter_statue   counter_code  \\\n",
            "count  147164.000000    1.471640e+05   147163.000000  147163.000000   \n",
            "mean       20.177829    9.264243e+10        0.040724     171.781562   \n",
            "std        13.493818    1.390625e+12        0.368680     133.491687   \n",
            "min         9.000000    0.000000e+00        0.000000       5.000000   \n",
            "25%        11.000000    1.197710e+05        0.000000       5.000000   \n",
            "50%        11.000000    5.048400e+05        0.000000     203.000000   \n",
            "75%        40.000000    1.131921e+06        0.000000     207.000000   \n",
            "max        45.000000    2.738110e+13        5.000000     506.000000   \n",
            "\n",
            "       counter_coefficient  consommation_level_1  consommation_level_2  \\\n",
            "count             147163.0         147163.000000         147163.000000   \n",
            "mean                   1.0            405.709356            106.485333   \n",
            "std                    0.0            608.740276            779.230907   \n",
            "min                    1.0              0.000000              0.000000   \n",
            "25%                    1.0             75.000000              0.000000   \n",
            "50%                    1.0            266.000000              0.000000   \n",
            "75%                    1.0            600.000000              0.000000   \n",
            "max                    1.0          93385.000000          99398.000000   \n",
            "\n",
            "       consommation_level_3  consommation_level_4      old_index  \\\n",
            "count         147163.000000         147163.000000  147163.000000   \n",
            "mean              21.707719             42.632632   17326.125324   \n",
            "std              299.731535            619.651225   38928.068024   \n",
            "min                0.000000              0.000000       0.000000   \n",
            "25%                0.000000              0.000000    1730.000000   \n",
            "50%                0.000000              0.000000    7450.000000   \n",
            "75%                0.000000              0.000000   21287.000000   \n",
            "max            45360.000000          87776.000000  867253.000000   \n",
            "\n",
            "           new_index  months_number  \n",
            "count  147163.000000  147163.000000  \n",
            "mean    17902.274763      42.994639  \n",
            "std     39378.503068    1392.339324  \n",
            "min         0.000000       1.000000  \n",
            "25%      2004.000000       4.000000  \n",
            "50%      7958.000000       4.000000  \n",
            "75%     21974.500000       4.000000  \n",
            "max    877022.000000   99104.000000  \n"
          ]
        }
      ]
    },
    {
      "cell_type": "code",
      "source": [
        "# Method 1: Using boolean indexing\n",
        "client_0_bills_method1 = df[df[\"client_id\"] == \"train_Client_0\"]\n",
        "#print(client_0_bills_method1)\n",
        "\n",
        "# Method 2: Using query()\n",
        "client_0_bills_method2 = df.query(\"client_id == 'train_Client_0'\")\n",
        "print(client_0_bills_method2)\n"
      ],
      "metadata": {
        "colab": {
          "base_uri": "https://localhost:8080/"
        },
        "collapsed": true,
        "id": "jj1hAU8yOZR8",
        "outputId": "2ec50287-30d2-4237-c40a-68906d18727e"
      },
      "execution_count": 23,
      "outputs": [
        {
          "output_type": "stream",
          "name": "stdout",
          "text": [
            "         client_id invoice_date  tarif_type  counter_number  counter_statue  \\\n",
            "0   train_Client_0   24/03/2014          11       1335667.0             0.0   \n",
            "1   train_Client_0   29/03/2013          11       1335667.0             0.0   \n",
            "2   train_Client_0   23/03/2015          11       1335667.0             0.0   \n",
            "3   train_Client_0   13/07/2015          11       1335667.0             0.0   \n",
            "4   train_Client_0   17/11/2016          11       1335667.0             0.0   \n",
            "5   train_Client_0   17/07/2017          11       1335667.0             0.0   \n",
            "6   train_Client_0   07/12/2018          11       1335667.0             0.0   \n",
            "7   train_Client_0   19/03/2019          11       1335667.0             0.0   \n",
            "8   train_Client_0   22/07/2011          11       1335667.0             0.0   \n",
            "9   train_Client_0   22/11/2011          11       1335667.0             0.0   \n",
            "10  train_Client_0   25/11/2008          11       1335667.0             0.0   \n",
            "11  train_Client_0   23/07/2012          11       1335667.0             0.0   \n",
            "12  train_Client_0   29/11/2012          11       1335667.0             0.0   \n",
            "13  train_Client_0   22/07/2013          11       1335667.0             0.0   \n",
            "14  train_Client_0   18/07/2014          11       1335667.0             0.0   \n",
            "15  train_Client_0   24/11/2014          11       1335667.0             0.0   \n",
            "16  train_Client_0   18/11/2015          11       1335667.0             0.0   \n",
            "17  train_Client_0   27/03/2012          11       1335667.0             0.0   \n",
            "18  train_Client_0   30/03/2011          11       1335667.0             0.0   \n",
            "19  train_Client_0   12/02/2013          11       1335667.0             0.0   \n",
            "20  train_Client_0   22/07/2010          11       1335667.0             0.0   \n",
            "21  train_Client_0   24/11/2010          11       1335667.0             0.0   \n",
            "22  train_Client_0   17/10/2005          11       1335667.0             0.0   \n",
            "23  train_Client_0   24/02/2006          11       1335667.0             0.0   \n",
            "24  train_Client_0   23/06/2006          11       1335667.0             0.0   \n",
            "25  train_Client_0   18/10/2006          11       1335667.0             0.0   \n",
            "26  train_Client_0   27/06/2007          11       1335667.0             0.0   \n",
            "27  train_Client_0   25/10/2007          11       1335667.0             0.0   \n",
            "28  train_Client_0   26/02/2007          11       1335667.0             0.0   \n",
            "29  train_Client_0   28/07/2008          11       1335667.0             0.0   \n",
            "30  train_Client_0   04/01/2009          11       1335667.0             0.0   \n",
            "31  train_Client_0   27/07/2009          11       1335667.0             0.0   \n",
            "32  train_Client_0   24/11/2009          11       1335667.0             0.0   \n",
            "33  train_Client_0   29/03/2010          11       1335667.0             0.0   \n",
            "34  train_Client_0   04/01/2008          11       1335667.0             0.0   \n",
            "\n",
            "    counter_code reading_remarque  counter_coefficient  consommation_level_1  \\\n",
            "0          203.0              8.0                  1.0                  82.0   \n",
            "1          203.0              6.0                  1.0                1200.0   \n",
            "2          203.0              8.0                  1.0                 123.0   \n",
            "3          207.0              8.0                  1.0                 102.0   \n",
            "4          207.0              9.0                  1.0                 572.0   \n",
            "5          207.0              9.0                  1.0                 314.0   \n",
            "6          207.0              9.0                  1.0                 541.0   \n",
            "7          207.0              9.0                  1.0                 585.0   \n",
            "8          203.0              9.0                  1.0                1200.0   \n",
            "9          203.0              6.0                  1.0                1082.0   \n",
            "10         203.0              6.0                  1.0                 174.0   \n",
            "11         203.0              6.0                  1.0                 628.0   \n",
            "12         203.0              6.0                  1.0                 886.0   \n",
            "13         203.0              8.0                  1.0                 147.0   \n",
            "14         203.0              8.0                  1.0                  99.0   \n",
            "15         203.0              8.0                  1.0                 141.0   \n",
            "16         207.0              9.0                  1.0                 217.0   \n",
            "17         203.0              8.0                  1.0                 292.0   \n",
            "18         203.0              6.0                  1.0                 497.0   \n",
            "19         203.0              8.0                  1.0                  38.0   \n",
            "20         203.0              6.0                  1.0                 278.0   \n",
            "21         203.0              6.0                  1.0                 234.0   \n",
            "22         203.0              6.0                  1.0                 124.0   \n",
            "23         203.0              6.0                  1.0                 141.0   \n",
            "24         203.0              6.0                  1.0                 162.0   \n",
            "25         203.0              6.0                  1.0                 159.0   \n",
            "26         203.0              6.0                  1.0                 240.0   \n",
            "27         203.0              6.0                  1.0                 276.0   \n",
            "28         203.0              6.0                  1.0                 182.0   \n",
            "29         203.0              6.0                  1.0                 171.0   \n",
            "30         203.0              6.0                  1.0                 315.0   \n",
            "31         203.0              6.0                  1.0                 312.0   \n",
            "32         203.0              6.0                  1.0                 267.0   \n",
            "33         203.0              6.0                  1.0                 276.0   \n",
            "34         203.0              6.0                  1.0                 277.0   \n",
            "\n",
            "    consommation_level_2  consommation_level_3  consommation_level_4  \\\n",
            "0                    0.0                   0.0                   0.0   \n",
            "1                  184.0                   0.0                   0.0   \n",
            "2                    0.0                   0.0                   0.0   \n",
            "3                    0.0                   0.0                   0.0   \n",
            "4                    0.0                   0.0                   0.0   \n",
            "5                    0.0                   0.0                   0.0   \n",
            "6                    0.0                   0.0                   0.0   \n",
            "7                    0.0                   0.0                   0.0   \n",
            "8                  186.0                   0.0                   0.0   \n",
            "9                    0.0                   0.0                   0.0   \n",
            "10                   0.0                   0.0                   0.0   \n",
            "11                   0.0                   0.0                   0.0   \n",
            "12                   0.0                   0.0                   0.0   \n",
            "13                   0.0                   0.0                   0.0   \n",
            "14                   0.0                   0.0                   0.0   \n",
            "15                   0.0                   0.0                   0.0   \n",
            "16                   0.0                   0.0                   0.0   \n",
            "17                   0.0                   0.0                   0.0   \n",
            "18                   0.0                   0.0                   0.0   \n",
            "19                   0.0                   0.0                   0.0   \n",
            "20                   0.0                   0.0                   0.0   \n",
            "21                   0.0                   0.0                   0.0   \n",
            "22                   0.0                   0.0                   0.0   \n",
            "23                   0.0                   0.0                   0.0   \n",
            "24                   0.0                   0.0                   0.0   \n",
            "25                   0.0                   0.0                   0.0   \n",
            "26                   0.0                   0.0                   0.0   \n",
            "27                   0.0                   0.0                   0.0   \n",
            "28                   0.0                   0.0                   0.0   \n",
            "29                   0.0                   0.0                   0.0   \n",
            "30                   0.0                   0.0                   0.0   \n",
            "31                   0.0                   0.0                   0.0   \n",
            "32                   0.0                   0.0                   0.0   \n",
            "33                   0.0                   0.0                   0.0   \n",
            "34                   0.0                   0.0                   0.0   \n",
            "\n",
            "    old_index  new_index  months_number counter_type  \n",
            "0     14302.0    14384.0            4.0         ELEC  \n",
            "1     12294.0    13678.0            4.0         ELEC  \n",
            "2     14624.0    14747.0            4.0         ELEC  \n",
            "3     14747.0    14849.0            4.0         ELEC  \n",
            "4     15066.0    15638.0           12.0         ELEC  \n",
            "5     15638.0    15952.0            8.0         ELEC  \n",
            "6     15952.0    16493.0           12.0         ELEC  \n",
            "7     16493.0    17078.0            8.0         ELEC  \n",
            "8      7770.0     9156.0            4.0         ELEC  \n",
            "9      9156.0    10238.0            4.0         ELEC  \n",
            "10     5417.0     5591.0            4.0         ELEC  \n",
            "11    10780.0    11408.0            4.0         ELEC  \n",
            "12    11408.0    12294.0            4.0         ELEC  \n",
            "13    13983.0    14130.0            4.0         ELEC  \n",
            "14    14384.0    14483.0            4.0         ELEC  \n",
            "15    14483.0    14624.0            4.0         ELEC  \n",
            "16    14849.0    15066.0            4.0         ELEC  \n",
            "17    10488.0    10780.0            4.0         ELEC  \n",
            "18     7273.0     7770.0            4.0         ELEC  \n",
            "19    14264.0    14302.0            2.0         ELEC  \n",
            "20     6761.0     7039.0            4.0         ELEC  \n",
            "21     7039.0     7273.0            4.0         ELEC  \n",
            "22     3685.0     3809.0            4.0         ELEC  \n",
            "23     3809.0     3950.0            4.0         ELEC  \n",
            "24     3950.0     4112.0            4.0         ELEC  \n",
            "25     4112.0     4271.0            4.0         ELEC  \n",
            "26     4453.0     4693.0            4.0         ELEC  \n",
            "27     4693.0     4969.0            4.0         ELEC  \n",
            "28     4271.0     4453.0            4.0         ELEC  \n",
            "29     5246.0     5417.0            4.0         ELEC  \n",
            "30     5591.0     5906.0            4.0         ELEC  \n",
            "31     5906.0     6218.0            4.0         ELEC  \n",
            "32     6218.0     6485.0            4.0         ELEC  \n",
            "33     6485.0     6761.0            4.0         ELEC  \n",
            "34     4969.0     5246.0            4.0         ELEC  \n"
          ]
        }
      ]
    },
    {
      "cell_type": "code",
      "source": [
        "#Transform the 'counter_type' feature to a numeric variable using the encoder of your choice.\n",
        "from sklearn.preprocessing import LabelEncoder\n",
        "\n",
        "encoder = LabelEncoder()\n",
        "df[\"counter_type_encoded\"] = encoder.fit_transform(df[\"counter_type\"])\n",
        "print(df[[\"counter_type\", \"counter_type_encoded\"]])\n"
      ],
      "metadata": {
        "colab": {
          "base_uri": "https://localhost:8080/"
        },
        "collapsed": true,
        "id": "aIgfx13jOxmz",
        "outputId": "bbe1ab1c-0ea6-478a-8666-484ccc3f794b"
      },
      "execution_count": 29,
      "outputs": [
        {
          "output_type": "stream",
          "name": "stdout",
          "text": [
            "       counter_type  counter_type_encoded\n",
            "0              ELEC                     0\n",
            "1              ELEC                     0\n",
            "2              ELEC                     0\n",
            "3              ELEC                     0\n",
            "4              ELEC                     0\n",
            "...             ...                   ...\n",
            "147159         ELEC                     0\n",
            "147160         ELEC                     0\n",
            "147161         ELEC                     0\n",
            "147162         ELEC                     0\n",
            "147163          NaN                     2\n",
            "\n",
            "[147164 rows x 2 columns]\n"
          ]
        }
      ]
    },
    {
      "cell_type": "code",
      "source": [
        "print(df.columns.tolist())  # List all column names\n"
      ],
      "metadata": {
        "colab": {
          "base_uri": "https://localhost:8080/"
        },
        "id": "bcDO1FyQRq1D",
        "outputId": "c626986c-5dfa-4391-dd55-8422c7cea39d"
      },
      "execution_count": 41,
      "outputs": [
        {
          "output_type": "stream",
          "name": "stdout",
          "text": [
            "['client_id', 'invoice_date', 'tarif_type', 'counter_number', 'counter_code', 'reading_remarque', 'counter_coefficient', 'consommation_level_1', 'consommation_level_2', 'consommation_level_3', 'consommation_level_4', 'old_index', 'new_index', 'months_number', 'counter_type', 'counter_type_encoded']\n"
          ]
        }
      ]
    },
    {
      "cell_type": "code",
      "source": [
        "\n",
        "\n",
        "#Delete the 'counter_statue' feature from the Dataframe\n",
        "#i deleted counter _type\n",
        "#counter_code\n",
        "\n",
        "\n",
        "\n",
        "df.drop(columns=[\"counter_code\"], inplace=True, errors=\"ignore\")\n",
        "print(df.columns)\n"
      ],
      "metadata": {
        "colab": {
          "base_uri": "https://localhost:8080/"
        },
        "id": "vm57G_szRxbk",
        "outputId": "02b27fa9-6a68-48f7-abae-5a0de41afe13"
      },
      "execution_count": 42,
      "outputs": [
        {
          "output_type": "stream",
          "name": "stdout",
          "text": [
            "Index(['client_id', 'invoice_date', 'tarif_type', 'counter_number',\n",
            "       'reading_remarque', 'counter_coefficient', 'consommation_level_1',\n",
            "       'consommation_level_2', 'consommation_level_3', 'consommation_level_4',\n",
            "       'old_index', 'new_index', 'months_number', 'counter_type',\n",
            "       'counter_type_encoded'],\n",
            "      dtype='object')\n"
          ]
        }
      ]
    },
    {
      "cell_type": "code",
      "source": [
        "df.drop(columns=[\"counter_type\"], inplace=True, errors=\"ignore\")\n",
        "print(df.columns)\n"
      ],
      "metadata": {
        "colab": {
          "base_uri": "https://localhost:8080/"
        },
        "id": "tZHwQvy5R0fX",
        "outputId": "7d536424-8016-40ab-a983-91b7e45f365c"
      },
      "execution_count": 43,
      "outputs": [
        {
          "output_type": "stream",
          "name": "stdout",
          "text": [
            "Index(['client_id', 'invoice_date', 'tarif_type', 'counter_number',\n",
            "       'reading_remarque', 'counter_coefficient', 'consommation_level_1',\n",
            "       'consommation_level_2', 'consommation_level_3', 'consommation_level_4',\n",
            "       'old_index', 'new_index', 'months_number', 'counter_type_encoded'],\n",
            "      dtype='object')\n"
          ]
        }
      ]
    },
    {
      "cell_type": "markdown",
      "source": [],
      "metadata": {
        "id": "8XO8N24tNMgg"
      }
    }
  ]
}