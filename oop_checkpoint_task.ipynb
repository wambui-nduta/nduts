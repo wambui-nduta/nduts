{
  "nbformat": 4,
  "nbformat_minor": 0,
  "metadata": {
    "colab": {
      "provenance": [],
      "authorship_tag": "ABX9TyMskF2kOcxRRqw2KGlRLSTA",
      "include_colab_link": true
    },
    "kernelspec": {
      "name": "python3",
      "display_name": "Python 3"
    },
    "language_info": {
      "name": "python"
    }
  },
  "cells": [
    {
      "cell_type": "markdown",
      "metadata": {
        "id": "view-in-github",
        "colab_type": "text"
      },
      "source": [
        "<a href=\"https://colab.research.google.com/github/wambui-nduta/nduts/blob/main/oop_checkpoint_task.ipynb\" target=\"_parent\"><img src=\"https://colab.research.google.com/assets/colab-badge.svg\" alt=\"Open In Colab\"/></a>"
      ]
    },
    {
      "cell_type": "code",
      "execution_count": 4,
      "metadata": {
        "colab": {
          "base_uri": "https://localhost:8080/"
        },
        "id": "4MqGr6DfUaj3",
        "outputId": "00aacac0-a451-429d-fce6-bb8d592e60bf"
      },
      "outputs": [
        {
          "output_type": "stream",
          "name": "stdout",
          "text": [
            "You have deposited 6500.0 into your account.\n",
            "Your new balance is 16500.0\n",
            "You have withdrawn 1200.0 from your account.\n",
            "Your new balance is 15300.0\n",
            "You have deposited 46700.0 into your account.\n",
            "Your new balance is 62000.0\n",
            "You have withdrawn 30000.0 from your account.\n",
            "Your new balance is 32000.0\n",
            "You have deposited 68500.0 into your account.\n",
            "Your new balance is 1069400.0\n",
            "You have withdrawn 111200.0 from your account.\n",
            "Your new balance is 958200.0\n"
          ]
        }
      ],
      "source": [
        "class Account:\n",
        "    def __init__(self, account_number: str, account_balance: float, account_holder: str):\n",
        "        self.account_number = account_number\n",
        "        self.account_balance = account_balance\n",
        "        self.account_holder = account_holder\n",
        "\n",
        "    def deposit(self, amount: float):\n",
        "        print(f\"You have deposited {amount} into your account.\")\n",
        "        self.account_balance += amount\n",
        "        print(f\"Your new balance is {self.account_balance}\")\n",
        "\n",
        "    def withdraw(self, amount: float):\n",
        "        if amount > self.account_balance:\n",
        "            print(\"Insufficient funds.\")\n",
        "        else:\n",
        "            print(f\"You have withdrawn {amount} from your account.\")\n",
        "            self.account_balance -= amount\n",
        "            print(f\"Your new balance is {self.account_balance}\")\n",
        "\n",
        "\n",
        "my_account = Account(\"6783534\", 10000.0, \"John Doe\")\n",
        "my_account.deposit(6500.0)\n",
        "my_account.withdraw(1200.0)\n",
        "\n",
        "\n",
        "my_account.deposit(46700.0)\n",
        "my_account.withdraw(30000.0)\n",
        "\n",
        "my_account = Account(\"56575857\", 1000900.0, \"John Smith\")\n",
        "my_account.deposit(68500.0)\n",
        "my_account.withdraw(111200.0)\n",
        "\n",
        "\n"
      ]
    }
  ]
}