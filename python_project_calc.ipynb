{
  "nbformat": 4,
  "nbformat_minor": 0,
  "metadata": {
    "colab": {
      "provenance": [],
      "authorship_tag": "ABX9TyNGmOkNzZM9T5VPWuESTqqr",
      "include_colab_link": true
    },
    "kernelspec": {
      "name": "python3",
      "display_name": "Python 3"
    },
    "language_info": {
      "name": "python"
    }
  },
  "cells": [
    {
      "cell_type": "markdown",
      "metadata": {
        "id": "view-in-github",
        "colab_type": "text"
      },
      "source": [
        "<a href=\"https://colab.research.google.com/github/wambui-nduta/nduts/blob/main/python_project_calc.ipynb\" target=\"_parent\"><img src=\"https://colab.research.google.com/assets/colab-badge.svg\" alt=\"Open In Colab\"/></a>"
      ]
    },
    {
      "cell_type": "code",
      "execution_count": null,
      "metadata": {
        "id": "5z1ji2jAodXc"
      },
      "outputs": [],
      "source": [
        "import math\n",
        "\n",
        "class Calculator:\n",
        "    def __init__(self):\n",
        "        self.operations = {\n",
        "            '+': self.add,\n",
        "            '-': self.subtract,\n",
        "            '*': self.multiply,\n",
        "            '/': self.divide\n",
        "        }\n",
        "\n",
        "    def add(self, x, y):\n",
        "        return x + y\n",
        "\n",
        "    def subtract(self, x, y):\n",
        "        return x - y\n",
        "\n",
        "    def multiply(self, x, y):\n",
        "        return x * y\n",
        "\n",
        "    def divide(self, x, y):\n",
        "        if y == 0:\n",
        "            return \"Error: Division by zero!\"\n",
        "        return x / y\n",
        "\n",
        "    def add_operation(self, symbol, function):\n",
        "        self.operations[symbol] = function\n",
        "\n",
        "    def calculate(self, x, operation, y):\n",
        "        if operation not in self.operations:\n",
        "            return \"Error: Invalid operation\"\n",
        "        return self.operations[operation](x, y)\n",
        "\n",
        "def exponentiation(x, y):\n",
        "    return x ** y\n",
        "\n",
        "def square_root(x, y=None):\n",
        "    if x < 0:\n",
        "        return \"Error: Cannot take square root of a negative number\"\n",
        "    return math.sqrt(x)\n",
        "\n",
        "def logarithm(x, y=None):\n",
        "    if x <= 0:\n",
        "        return \"Error: Cannot take log of a number <= 0\"\n",
        "    return math.log(x)\n",
        "\n",
        "def main():\n",
        "    calc = Calculator()\n",
        "    calc.add_operation('^', exponentiation)\n",
        "    calc.add_operation('sqrt', square_root)\n",
        "    calc.add_operation('log', logarithm)\n",
        "\n",
        "    while True:\n",
        "        operation = input(\"Enter operation (+, -, *, /, ^, sqrt, log) or 'exit' to quit: \")\n",
        "\n",
        "        if operation == 'exit':\n",
        "            break\n",
        "\n",
        "        if operation == 'sqrt' or operation == 'log':\n",
        "            x = float(input(\"Enter a number: \"))\n",
        "            result = calc.calculate(x, operation, None)\n",
        "        else:\n",
        "            x = float(input(\"Enter first number: \"))\n",
        "            y = float(input(\"Enter second number: \"))\n",
        "            result = calc.calculate(x, operation, y)\n",
        "\n",
        "        print(f\"Result: {result}\")\n",
        "\n",
        "if __name__ == \"__main__\":\n",
        "    main()\n"
      ]
    }
  ]
}