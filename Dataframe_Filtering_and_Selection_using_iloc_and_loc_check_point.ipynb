{
  "nbformat": 4,
  "nbformat_minor": 0,
  "metadata": {
    "colab": {
      "provenance": [],
      "authorship_tag": "ABX9TyPGD9f8LSK5LVX3r2SBBwA5",
      "include_colab_link": true
    },
    "kernelspec": {
      "name": "python3",
      "display_name": "Python 3"
    },
    "language_info": {
      "name": "python"
    }
  },
  "cells": [
    {
      "cell_type": "markdown",
      "metadata": {
        "id": "view-in-github",
        "colab_type": "text"
      },
      "source": [
        "<a href=\"https://colab.research.google.com/github/wambui-nduta/nduts/blob/main/Dataframe_Filtering_and_Selection_using_iloc_and_loc_check_point.ipynb\" target=\"_parent\"><img src=\"https://colab.research.google.com/assets/colab-badge.svg\" alt=\"Open In Colab\"/></a>"
      ]
    },
    {
      "cell_type": "code",
      "execution_count": 5,
      "metadata": {
        "colab": {
          "base_uri": "https://localhost:8080/"
        },
        "id": "7BR8-iLyrsjF",
        "outputId": "e59e7127-22a5-4fc5-ccf0-bc0bdf458a10"
      },
      "outputs": [
        {
          "output_type": "stream",
          "name": "stdout",
          "text": [
            "    Name Department  Age  Gender  Salary  Experience\n",
            "0   John         IT   30    Male   50000           3\n",
            "1   Mary  Marketing   40  Female   60000           7\n",
            "2    Bob      Sales   25    Male   45000           2\n",
            "3  Sarah         IT   35  Female   55000           5\n",
            "4    Tom    Finance   45    Male   70000          10\n",
            "5   Lisa  Marketing   28  Female   55000           4\n",
            "First 3 rows:\n",
            "    Name Department  Age  Gender  Salary  Experience\n",
            "0  John         IT   30    Male   50000           3\n",
            "1  Mary  Marketing   40  Female   60000           7\n",
            "2   Bob      Sales   25    Male   45000           2\n",
            "\n",
            "Employees in Marketing Department:\n",
            "    Name Department  Age  Gender  Salary  Experience\n",
            "1  Mary  Marketing   40  Female   60000           7\n",
            "5  Lisa  Marketing   28  Female   55000           4\n",
            "\n",
            "Age and Gender of first 4 rows:\n",
            "    Age  Gender\n",
            "0   30    Male\n",
            "1   40  Female\n",
            "2   25    Male\n",
            "3   35  Female\n",
            "\n",
            "Salary and Experience of Male employees:\n",
            "    Salary  Experience\n",
            "0   50000           3\n",
            "2   45000           2\n",
            "4   70000          10\n"
          ]
        }
      ],
      "source": [
        "import pandas as pd\n",
        "# data frame\n",
        "data = {\n",
        "    'Name': ['John', 'Mary', 'Bob', 'Sarah', 'Tom', 'Lisa'],\n",
        "    'Department': ['IT', 'Marketing', 'Sales', 'IT', 'Finance', 'Marketing'],\n",
        "    'Age': [30, 40, 25, 35, 45, 28],\n",
        "    'Gender': ['Male', 'Female', 'Male', 'Female', 'Male', 'Female'],\n",
        "    'Salary': [50000, 60000, 45000, 55000, 70000, 55000],\n",
        "    'Experience': [3, 7, 2, 5, 10, 4]\n",
        "}\n",
        "\n",
        "employee_df = pd.DataFrame(data)\n",
        "print(employee_df)\n",
        "\n",
        "# question 1\n",
        "#Use the iloc method to select the first 3 rows of the dataframe.\n",
        "first_three_rows = employee_df.iloc[:3]\n",
        "print(\"First 3 rows:\\n\", first_three_rows)\n",
        "\n",
        "# question 2\n",
        "#Use the loc method to select all rows where the Department is \"Marketing\"\n",
        "marketing_employees = employee_df.loc[employee_df['Department'] == 'Marketing']\n",
        "print(\"\\nEmployees in Marketing Department:\\n\", marketing_employees)\n",
        "\n",
        "# question 3\n",
        "#Use the iloc method to select the Age and Gender columns for\n",
        "# the first 4 rows of the dataframe.\n",
        "age_gender_first_four = employee_df.iloc[:4, [2, 3]]\n",
        "print(\"\\nAge and Gender of first 4 rows:\\n\", age_gender_first_four)\n",
        "\n",
        "# 4. question\n",
        "#Use the loc method to select the Salary and Experience columns for all rows where the Gender is \"Male\".\n",
        "male_salary_experience = employee_df.loc[employee_df['Gender'] == 'Male', ['Salary', 'Experience']]\n",
        "print(\"\\nSalary and Experience of Male employees:\\n\", male_salary_experience)\n"
      ]
    }
  ]
}