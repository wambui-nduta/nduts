{
  "nbformat": 4,
  "nbformat_minor": 0,
  "metadata": {
    "colab": {
      "provenance": [],
      "authorship_tag": "ABX9TyO4ItbXBCf/jMf/2PWvBKYM",
      "include_colab_link": true
    },
    "kernelspec": {
      "name": "python3",
      "display_name": "Python 3"
    },
    "language_info": {
      "name": "python"
    }
  },
  "cells": [
    {
      "cell_type": "markdown",
      "metadata": {
        "id": "view-in-github",
        "colab_type": "text"
      },
      "source": [
        "<a href=\"https://colab.research.google.com/github/wambui-nduta/nduts/blob/main/numpy_prac_self.ipynb\" target=\"_parent\"><img src=\"https://colab.research.google.com/assets/colab-badge.svg\" alt=\"Open In Colab\"/></a>"
      ]
    },
    {
      "cell_type": "code",
      "execution_count": 2,
      "metadata": {
        "colab": {
          "base_uri": "https://localhost:8080/"
        },
        "id": "Bnj3DVHdWWJG",
        "outputId": "0661c419-7151-415f-bb06-123b348d0ee6"
      },
      "outputs": [
        {
          "output_type": "stream",
          "name": "stdout",
          "text": [
            "[ 0.   2.5  5.   7.5 10.  12.5 15.  17.5 20.  22.5 25.  27.5]\n"
          ]
        }
      ],
      "source": [
        "import numpy as np\n",
        "array_rng = np.arange(start=0, stop=30, step=2.5)\n",
        "print(array_rng)\n"
      ]
    },
    {
      "cell_type": "code",
      "source": [
        "array_full = np.full(shape=(2, 3), fill_value=2)\n",
        "array_full_text = np.full(shape=(2, 3), fill_value='Three-Six-Five')\n",
        "\n",
        "print(array_full)\n",
        "print(array_full_text)"
      ],
      "metadata": {
        "colab": {
          "base_uri": "https://localhost:8080/"
        },
        "id": "5CL6j90WXKyp",
        "outputId": "39456b98-32c3-48b1-8116-fc00e77f1724"
      },
      "execution_count": 5,
      "outputs": [
        {
          "output_type": "stream",
          "name": "stdout",
          "text": [
            "[[2 2 2]\n",
            " [2 2 2]]\n",
            "[['Three-Six-Five' 'Three-Six-Five' 'Three-Six-Five']\n",
            " ['Three-Six-Five' 'Three-Six-Five' 'Three-Six-Five']]\n"
          ]
        }
      ]
    },
    {
      "cell_type": "code",
      "source": [
        "array_0s = np.zeros(shape=(10))\n",
        "print(array_0s)"
      ],
      "metadata": {
        "colab": {
          "base_uri": "https://localhost:8080/"
        },
        "id": "vJ07RcoLXjMH",
        "outputId": "2ca974b1-70a7-47d6-edc8-88184e547edb"
      },
      "execution_count": 10,
      "outputs": [
        {
          "output_type": "stream",
          "name": "stdout",
          "text": [
            "[0. 0. 0. 0. 0. 0. 0. 0. 0. 0.]\n"
          ]
        }
      ]
    },
    {
      "cell_type": "code",
      "source": [
        "array_0s = np.zeros(shape=(2, 3))\n",
        "print(array_0s)"
      ],
      "metadata": {
        "colab": {
          "base_uri": "https://localhost:8080/"
        },
        "id": "EyPmMbEiYSZ7",
        "outputId": "e67a1de0-54fd-4ccf-9b28-4e482805cbd2"
      },
      "execution_count": 12,
      "outputs": [
        {
          "output_type": "stream",
          "name": "stdout",
          "text": [
            "[[0. 0. 0.]\n",
            " [0. 0. 0.]]\n"
          ]
        }
      ]
    },
    {
      "cell_type": "code",
      "source": [
        "matrix_A = np.array([[1, 0, 9, 2, 2], [3, 23, 4, 5, 1], [0, 2, 3, 4, 1]])\n",
        "array_empty_like = np.empty_like(matrix_A)\n",
        "\n",
        "print(array_empty_like)"
      ],
      "metadata": {
        "colab": {
          "base_uri": "https://localhost:8080/"
        },
        "id": "tT0Iw6p8YmgN",
        "outputId": "d24f1df8-e3d9-4a02-b868-4ba87e48821f"
      },
      "execution_count": 13,
      "outputs": [
        {
          "output_type": "stream",
          "name": "stdout",
          "text": [
            "[[           34261578                   0        206158430253\n",
            "         193273528371        214748364849]\n",
            " [       210453397588        249108103223        223338299441\n",
            "         210453397562        197568495672]\n",
            " [       231928234036        236223201328        210453397552\n",
            "  8286623670843998298                 128]]\n"
          ]
        }
      ]
    },
    {
      "cell_type": "code",
      "source": [
        "\n"
      ],
      "metadata": {
        "id": "a33ysSb6YZNx"
      },
      "execution_count": null,
      "outputs": []
    },
    {
      "cell_type": "code",
      "source": [],
      "metadata": {
        "id": "5pyqmLkDY35e"
      },
      "execution_count": null,
      "outputs": []
    }
  ]
}