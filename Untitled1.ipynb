{
  "nbformat": 4,
  "nbformat_minor": 0,
  "metadata": {
    "colab": {
      "provenance": [],
      "authorship_tag": "ABX9TyN2HjDSji2M5Yd3yfSx+CmF",
      "include_colab_link": true
    },
    "kernelspec": {
      "name": "python3",
      "display_name": "Python 3"
    },
    "language_info": {
      "name": "python"
    }
  },
  "cells": [
    {
      "cell_type": "markdown",
      "metadata": {
        "id": "view-in-github",
        "colab_type": "text"
      },
      "source": [
        "<a href=\"https://colab.research.google.com/github/wambui-nduta/nduts/blob/main/Untitled1.ipynb\" target=\"_parent\"><img src=\"https://colab.research.google.com/assets/colab-badge.svg\" alt=\"Open In Colab\"/></a>"
      ]
    },
    {
      "cell_type": "code",
      "execution_count": null,
      "metadata": {
        "id": "s9T_oL9kAPfY",
        "colab": {
          "base_uri": "https://localhost:8080/"
        },
        "outputId": "0f0b0ea1-02b9-484c-8418-44e631c153b4"
      },
      "outputs": [
        {
          "output_type": "stream",
          "name": "stdout",
          "text": [
            "[36]\n"
          ]
        }
      ],
      "source": [
        "sample_list=[2,3,6]\n",
        "result =[2*3*6]\n",
        "print(result)"
      ]
    },
    {
      "cell_type": "code",
      "source": [
        "#question 2"
      ],
      "metadata": {
        "id": "xRkaPwtNHgqS"
      },
      "execution_count": null,
      "outputs": []
    },
    {
      "cell_type": "code",
      "source": [
        "numbers = [(2, 5), (1, 2), (4, 4), (2, 3), (2, 1),(4,6),(3,2),(2,3)]\n",
        "sorted_numbers = sorted(numbers)\n",
        "print(sorted_numbers)\n"
      ],
      "metadata": {
        "colab": {
          "base_uri": "https://localhost:8080/"
        },
        "id": "h7VgpRj0BkbU",
        "outputId": "5967deb2-4887-4bb9-f6ab-8fd8e96c0c22"
      },
      "execution_count": null,
      "outputs": [
        {
          "output_type": "stream",
          "name": "stdout",
          "text": [
            "[(1, 2), (2, 1), (2, 3), (2, 3), (2, 5), (3, 2), (4, 4), (4, 6)]\n"
          ]
        }
      ]
    },
    {
      "cell_type": "code",
      "source": [
        "\n",
        "\n",
        "# Question 3\n",
        "d1 = {'a': 100, 'b': 200, 'c': 300}\n",
        "d2 = {'a': 300, 'b': 200, 'd': 400}\n",
        "result = {k: d1.get(k, 0) + d2.get(k, 0) for k in d1 | d2}\n",
        "print(result)\n",
        "\n",
        "# Question 4\n",
        "n = 8\n",
        "result = {i: i * i for i in range(1, n + 1)}\n",
        "print(result)\n",
        "\n",
        "# Question 5\n",
        "list_ = [('item1', '12.20'), ('item2', '15.10'), ('item3', '24.5')]\n",
        "sorted_list = sorted(list_, key=lambda x: float(x[1]), reverse=True)\n",
        "print(sorted_list)\n",
        "\n",
        "# Question 6\n",
        "my_set = {0, 1, 2, 3, 4}\n",
        "print(my_set)\n",
        "\n",
        "for i in my_set:\n",
        "    print(i)\n",
        "\n",
        "my_set.add(5)\n",
        "print(my_set)\n",
        "\n",
        "my_set.remove(2)\n",
        "print(my_set)\n"
      ],
      "metadata": {
        "colab": {
          "base_uri": "https://localhost:8080/"
        },
        "id": "noA6gBTQDPKy",
        "outputId": "6951208b-fc50-42e1-ae81-2f72d3d6b391"
      },
      "execution_count": null,
      "outputs": [
        {
          "output_type": "stream",
          "name": "stdout",
          "text": [
            "{'a': 400, 'b': 400, 'c': 300, 'd': 400}\n",
            "{1: 1, 2: 4, 3: 9, 4: 16, 5: 25, 6: 36, 7: 49, 8: 64}\n",
            "[('item3', '24.5'), ('item2', '15.10'), ('item1', '12.20')]\n",
            "{0, 1, 2, 3, 4}\n",
            "0\n",
            "1\n",
            "2\n",
            "3\n",
            "4\n",
            "{0, 1, 2, 3, 4, 5}\n",
            "{0, 1, 3, 4, 5}\n"
          ]
        }
      ]
    },
    {
      "cell_type": "code",
      "source": [],
      "metadata": {
        "id": "3fh7Sz3a_FLu"
      },
      "execution_count": null,
      "outputs": []
    },
    {
      "cell_type": "code",
      "source": [
        "\n"
      ],
      "metadata": {
        "id": "qamtqJ9s6ro5"
      },
      "execution_count": null,
      "outputs": []
    },
    {
      "cell_type": "code",
      "source": [
        "list=(1,2,4,5,6)\n",
        "def multiply_list(items):\n"
      ],
      "metadata": {
        "colab": {
          "base_uri": "https://localhost:8080/",
          "height": 106
        },
        "id": "yYA9m_J4AbtF",
        "outputId": "c5a3caf3-7ce3-4b42-d903-0d61c7a47c80"
      },
      "execution_count": null,
      "outputs": [
        {
          "output_type": "error",
          "ename": "SyntaxError",
          "evalue": "incomplete input (<ipython-input-1-d5cdf17e3d34>, line 3)",
          "traceback": [
            "\u001b[0;36m  File \u001b[0;32m\"<ipython-input-1-d5cdf17e3d34>\"\u001b[0;36m, line \u001b[0;32m3\u001b[0m\n\u001b[0;31m    \u001b[0m\n\u001b[0m    ^\u001b[0m\n\u001b[0;31mSyntaxError\u001b[0m\u001b[0;31m:\u001b[0m incomplete input\n"
          ]
        }
      ]
    },
    {
      "cell_type": "code",
      "source": [
        "def days_in_a_month(month, year):\n",
        "    if month in (1, 3, 5, 7, 8, 10, 12):\n",
        "        return 31\n",
        "    elif month in (4,6,9,11):\n",
        "        return 30\n",
        "    elif month == 2 :\n",
        "     if (year % 4 == 0 and year % 100 != 0 or year % 400 == 0):\n",
        "        return 29\n",
        "    else :\n",
        "        return \"invalid month\"\n",
        "    print(days_in_a_month(2,2022))"
      ],
      "metadata": {
        "id": "tF0fKsiVYYxZ"
      },
      "execution_count": null,
      "outputs": []
    },
    {
      "cell_type": "code",
      "source": [
        "\n",
        "\n",
        "\n",
        "\n",
        "\n",
        "\n",
        "\n",
        "\n",
        "for while"
      ],
      "metadata": {
        "id": "mp_MFWiVzSCg"
      },
      "execution_count": null,
      "outputs": []
    },
    {
      "cell_type": "code",
      "source": [
        "num = int (user_input)"
      ],
      "metadata": {
        "id": "Z8i9XiHo2t2K"
      },
      "execution_count": null,
      "outputs": []
    }
  ]
}