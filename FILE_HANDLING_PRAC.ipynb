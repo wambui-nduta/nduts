{
  "nbformat": 4,
  "nbformat_minor": 0,
  "metadata": {
    "colab": {
      "provenance": [],
      "authorship_tag": "ABX9TyNVLlEhlJ5jzKxkVinz3EGD",
      "include_colab_link": true
    },
    "kernelspec": {
      "name": "python3",
      "display_name": "Python 3"
    },
    "language_info": {
      "name": "python"
    }
  },
  "cells": [
    {
      "cell_type": "markdown",
      "metadata": {
        "id": "view-in-github",
        "colab_type": "text"
      },
      "source": [
        "<a href=\"https://colab.research.google.com/github/wambui-nduta/nduts/blob/main/FILE_HANDLING_PRAC.ipynb\" target=\"_parent\"><img src=\"https://colab.research.google.com/assets/colab-badge.svg\" alt=\"Open In Colab\"/></a>"
      ]
    },
    {
      "cell_type": "code",
      "source": [
        "import numpy as np\n",
        "\n",
        "file = open(\"/content/loanpredictions.csv\", \"r\")\n",
        "data = np.genfromtxt(file, delimiter=\",\",skip_header=1, dtype=float)\n",
        "\n",
        "\n",
        "\n",
        "mean_value = np.mean(data, axis=0)\n",
        "median_value = np.median(data, axis=0)\n",
        "std_deviation = np.std(data, axis=0)\n",
        "\n",
        "\n",
        "print(\"Mean:\", mean_value)\n",
        "print(\"Median:\", median_value)\n",
        "print(\"Standard Deviation:\", std_deviation)\n",
        "\n",
        "\n",
        "\n",
        "\n",
        "\n",
        "\n",
        "\n",
        "\n",
        "\n",
        "\n",
        "\n",
        "\n"
      ],
      "metadata": {
        "id": "DHxYghn0GUMr",
        "colab": {
          "base_uri": "https://localhost:8080/"
        },
        "outputId": "70b1525c-1b27-4b68-dea3-6e4109ad27f7"
      },
      "execution_count": 18,
      "outputs": [
        {
          "output_type": "stream",
          "name": "stdout",
          "text": [
            "Mean: [          nan           nan           nan           nan           nan\n",
            "           nan 5403.45928339 1621.24579803           nan           nan\n",
            "           nan           nan           nan]\n",
            "Median: [   nan    nan    nan    nan    nan    nan 3812.5 1188.5    nan    nan\n",
            "    nan    nan    nan]\n",
            "Standard Deviation: [          nan           nan           nan           nan           nan\n",
            "           nan 6104.06485653 2923.86445977           nan           nan\n",
            "           nan           nan           nan]\n"
          ]
        }
      ]
    },
    {
      "cell_type": "code",
      "source": [],
      "metadata": {
        "id": "grTSBsP5GfNF"
      },
      "execution_count": null,
      "outputs": []
    },
    {
      "cell_type": "markdown",
      "source": [
        "i have tried moving the file its still not visible whenni copy the fie path on the code"
      ],
      "metadata": {
        "id": "qiq4287MGf0y"
      }
    }
  ]
}