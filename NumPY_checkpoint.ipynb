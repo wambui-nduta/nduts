{
  "nbformat": 4,
  "nbformat_minor": 0,
  "metadata": {
    "colab": {
      "provenance": [],
      "authorship_tag": "ABX9TyMxEWDcSo6jLYqmhG/OV4hV",
      "include_colab_link": true
    },
    "kernelspec": {
      "name": "python3",
      "display_name": "Python 3"
    },
    "language_info": {
      "name": "python"
    }
  },
  "cells": [
    {
      "cell_type": "markdown",
      "metadata": {
        "id": "view-in-github",
        "colab_type": "text"
      },
      "source": [
        "<a href=\"https://colab.research.google.com/github/wambui-nduta/nduts/blob/main/NumPY_checkpoint.ipynb\" target=\"_parent\"><img src=\"https://colab.research.google.com/assets/colab-badge.svg\" alt=\"Open In Colab\"/></a>"
      ]
    },
    {
      "cell_type": "code",
      "execution_count": 1,
      "metadata": {
        "colab": {
          "base_uri": "https://localhost:8080/"
        },
        "id": "Z5pLSnr7_4dM",
        "outputId": "4fbf3ba5-cdb0-4acb-ce79-6c9db12cb844"
      },
      "outputs": [
        {
          "output_type": "stream",
          "name": "stdout",
          "text": [
            "87.5\n"
          ]
        }
      ],
      "source": [
        "import numpy as np\n",
        "grades_arr=  [85, 90, 88, 92, 95, 80, 75, 98, 89, 83]\n",
        "\n",
        "mean_grades = np.mean(grades_arr)\n",
        "\n",
        "print (mean_grades)\n",
        "\n",
        "\n"
      ]
    },
    {
      "cell_type": "code",
      "source": [
        "median_grades = np.median(grades_arr)\n",
        "\n",
        "print (median_grades)"
      ],
      "metadata": {
        "colab": {
          "base_uri": "https://localhost:8080/"
        },
        "id": "St4WDP5HB9t7",
        "outputId": "a2dc3011-ad45-456e-b164-79083dc2b05b"
      },
      "execution_count": 2,
      "outputs": [
        {
          "output_type": "stream",
          "name": "stdout",
          "text": [
            "88.5\n"
          ]
        }
      ]
    },
    {
      "cell_type": "code",
      "source": [
        "std_grades = np.std(grades_arr)\n",
        "\n",
        "print (std_grades)"
      ],
      "metadata": {
        "colab": {
          "base_uri": "https://localhost:8080/"
        },
        "id": "HvElX5QBCPG1",
        "outputId": "d87ced6c-c201-4bc8-b07c-98a81cd482d5"
      },
      "execution_count": 3,
      "outputs": [
        {
          "output_type": "stream",
          "name": "stdout",
          "text": [
            "6.591661399070799\n"
          ]
        }
      ]
    },
    {
      "cell_type": "code",
      "source": [
        "grades_arr =  [85, 90, 88, 92, 95, 80, 75, 98, 89, 83]\n",
        "min_grades = np.min(grades_arr)\n",
        "max_grades = np.max(grades_arr)\n",
        "\n",
        "print (min_grades)\n",
        "print (max_grades)"
      ],
      "metadata": {
        "colab": {
          "base_uri": "https://localhost:8080/"
        },
        "id": "I15pRzrdCTyB",
        "outputId": "75838dd9-ed0b-4836-ff58-a6bc84d91ade"
      },
      "execution_count": 4,
      "outputs": [
        {
          "output_type": "stream",
          "name": "stdout",
          "text": [
            "75\n",
            "98\n"
          ]
        }
      ]
    },
    {
      "cell_type": "code",
      "source": [
        "grades_arr =np.sort(grades_arr)\n",
        "print (grades_arr)"
      ],
      "metadata": {
        "colab": {
          "base_uri": "https://localhost:8080/"
        },
        "id": "JvG2MzpfCll7",
        "outputId": "4fca8f8b-a0f5-4266-e904-65f130ae3e81"
      },
      "execution_count": 5,
      "outputs": [
        {
          "output_type": "stream",
          "name": "stdout",
          "text": [
            "[75 80 83 85 88 89 90 92 95 98]\n"
          ]
        }
      ]
    },
    {
      "cell_type": "code",
      "source": [
        "grades_arr= [85, 90, 88, 92, 95, 80, 75, 98, 89, 83]\n",
        "max_index = np.argmax(grades_arr)\n",
        "print (max_index)"
      ],
      "metadata": {
        "colab": {
          "base_uri": "https://localhost:8080/"
        },
        "id": "aI_g4dGiDBKO",
        "outputId": "258548a4-90cb-4a7f-f152-ce319a1775be"
      },
      "execution_count": 16,
      "outputs": [
        {
          "output_type": "stream",
          "name": "stdout",
          "text": [
            "7\n"
          ]
        }
      ]
    },
    {
      "cell_type": "code",
      "source": [
        "import numpy as np\n",
        "\n",
        "grades_arr = np.array([85, 90, 88, 92, 95, 80, 75, 98, 89, 83])  # Use parentheses\n",
        "\n",
        "indices = np.where(grades_arr > 90)\n",
        "print(indices)\n"
      ],
      "metadata": {
        "colab": {
          "base_uri": "https://localhost:8080/"
        },
        "id": "fz8OsIOoJYuv",
        "outputId": "7b7b845f-04fa-48a8-bf31-a6f6599abd73"
      },
      "execution_count": 24,
      "outputs": [
        {
          "output_type": "stream",
          "name": "stdout",
          "text": [
            "(array([3, 4, 7]),)\n"
          ]
        }
      ]
    },
    {
      "cell_type": "code",
      "source": [
        "import numpy as np\n",
        "\n",
        "grades_arr = np.array([85, 90, 88, 92, 95, 80, 75, 98, 89, 83])\n",
        "\n",
        "percentage = (np.sum(grades_arr > 90) / grades_arr.size) * 100\n",
        "\n",
        "print(f\"Percentage of students who scored above 90: {percentage:.2f}%\")\n"
      ],
      "metadata": {
        "colab": {
          "base_uri": "https://localhost:8080/"
        },
        "id": "8gtHD8FDJeRq",
        "outputId": "9bca314b-2e92-4b78-8192-64dd2dfc0309"
      },
      "execution_count": 25,
      "outputs": [
        {
          "output_type": "stream",
          "name": "stdout",
          "text": [
            "Percentage of students who scored above 90: 30.00%\n"
          ]
        }
      ]
    },
    {
      "cell_type": "code",
      "source": [
        "import numpy as np\n",
        "\n",
        "grades_arr = np.array([85, 90, 88, 92, 95, 80, 75, 98, 89, 83])\n",
        "\n",
        "percentage_below_75 = (np.sum(grades_arr < 75) / grades_arr.size) * 100\n",
        "\n",
        "print(f\"Percentage of students who scored below 75: {percentage_below_75:.2f}%\")\n"
      ],
      "metadata": {
        "colab": {
          "base_uri": "https://localhost:8080/"
        },
        "id": "sJpQdaeAJh8D",
        "outputId": "f3abc222-e92d-43de-ca22-f3aa0e679ce3"
      },
      "execution_count": 26,
      "outputs": [
        {
          "output_type": "stream",
          "name": "stdout",
          "text": [
            "Percentage of students who scored below 75: 0.00%\n"
          ]
        }
      ]
    },
    {
      "cell_type": "code",
      "source": [
        "import numpy as np\n",
        "\n",
        "grades_arr = np.array([85, 90, 88, 92, 95, 80, 75, 98, 89, 83])\n",
        "\n",
        "high_performers = grades_arr[grades_arr > 90]\n",
        "\n",
        "print(high_performers)\n"
      ],
      "metadata": {
        "colab": {
          "base_uri": "https://localhost:8080/"
        },
        "id": "uL3Clr6ML_gC",
        "outputId": "44472654-16d5-4526-eef3-8b203c7adf4d"
      },
      "execution_count": 27,
      "outputs": [
        {
          "output_type": "stream",
          "name": "stdout",
          "text": [
            "[92 95 98]\n"
          ]
        }
      ]
    },
    {
      "cell_type": "code",
      "source": [
        "import numpy as np\n",
        "\n",
        "grades_arr = np.array([85, 90, 88, 92, 95, 80, 75, 98, 89, 83])\n",
        "\n",
        "passing_grades = grades_arr[grades_arr > 75]\n",
        "\n",
        "print(passing_grades)\n"
      ],
      "metadata": {
        "colab": {
          "base_uri": "https://localhost:8080/"
        },
        "id": "QpdoNhMSMdXk",
        "outputId": "4baa48b8-4eb5-4a12-94cb-ea883d699a4a"
      },
      "execution_count": 28,
      "outputs": [
        {
          "output_type": "stream",
          "name": "stdout",
          "text": [
            "[85 90 88 92 95 80 98 89 83]\n"
          ]
        }
      ]
    },
    {
      "cell_type": "markdown",
      "source": [
        "#Create a numpy array called \"grades\" that contains the following grades: [85, 90, 88, 92, 95, 80, 75, 98, 89, 83]\n",
        "\n",
        "#Use numpy functions to calculate the mean, median, and standard deviation of the grades.\n",
        "#Use numpy function to find the maximum and minimum of the grades.\n",
        "#Use numpy function to sort the grades in ascending order.\n",
        "#Use numpy function to find the index of the highest grade in the array.\n",
        "#Use numpy function to count the number of students who scored above 90.\n",
        "#Use numpy function to calculate the percentage of students who scored above 90.\n",
        "#Use numpy function to calculate the percentage of students who scored below 75.\n",
        "#Use numpy function to extract all the grades above 90 and put them in a new array called \"high_performers\".\n",
        "#$Print the result of all the above steps.\n"
      ],
      "metadata": {
        "id": "H-yrJ7lxMzfK"
      }
    }
  ]
}